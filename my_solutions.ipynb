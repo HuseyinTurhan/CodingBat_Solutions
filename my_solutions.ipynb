{
 "cells": [
  {
   "cell_type": "markdown",
   "metadata": {},
   "source": [
    "# Warmup-1"
   ]
  },
  {
   "cell_type": "markdown",
   "metadata": {},
   "source": [
    "# sleep_in\n",
    "<a>Task</a> : The parameter weekday is True if it is a weekday, and the parameter vacation is True if we are on vacation. We sleep in if it is not a weekday or we're on vacation. Return True if we sleep in.\n",
    "\n",
    "<a>Example</a> : sleep_in(False, False) → True\n",
    "\n",
    "sleep_in(True, False) → False\n",
    "\n",
    "sleep_in(False, True) → True"
   ]
  },
  {
   "cell_type": "code",
   "execution_count": 2,
   "metadata": {},
   "outputs": [
    {
     "name": "stdout",
     "output_type": "stream",
     "text": [
      "True\n",
      "False\n",
      "True\n"
     ]
    }
   ],
   "source": [
    "def sleep_in(weekday, vacation):\n",
    "  if weekday and not vacation:\n",
    "    return False\n",
    "  else:\n",
    "    return True\n",
    "\n",
    "print(sleep_in(False, False))\n",
    "print(sleep_in(True, False))\n",
    "print(sleep_in(False, True))"
   ]
  },
  {
   "cell_type": "markdown",
   "metadata": {},
   "source": [
    "# monkey_trouble\n",
    "<a>Task</a> : We have two monkeys, a and b, and the parameters a_smile and b_smile indicate if each is smiling. We are in trouble if they are both smiling or if neither of them is smiling. Return True if we are in trouble.\n",
    "\n",
    "<a>Example</a> : monkey_trouble(True, True) → True\n",
    "\n",
    "monkey_trouble(False, False) → True\n",
    "\n",
    "monkey_trouble(True, False) → False"
   ]
  },
  {
   "cell_type": "code",
   "execution_count": 3,
   "metadata": {},
   "outputs": [
    {
     "name": "stdout",
     "output_type": "stream",
     "text": [
      "True\n",
      "True\n",
      "False\n"
     ]
    }
   ],
   "source": [
    "def monkey_trouble(a_smile, b_smile):\n",
    "  \n",
    "  if (a_smile and b_smile) or not(a_smile or b_smile):\n",
    "    return True\n",
    "  else:\n",
    "    return False\n",
    "\n",
    "print(monkey_trouble(True, True))\n",
    "print(monkey_trouble(False, False))\n",
    "print(monkey_trouble(True, False))"
   ]
  },
  {
   "cell_type": "markdown",
   "metadata": {},
   "source": [
    "# sum_double\n",
    "<a>Task</a> : Given two int values, return their sum. Unless the two values are the same, then return double their sum.\n",
    "\n",
    "<a>Example</a> : sum_double(1, 2) → 3\n",
    "\n",
    "sum_double(3, 2) → 5\n",
    "\n",
    "sum_double(2, 2) → 8"
   ]
  },
  {
   "cell_type": "code",
   "execution_count": 4,
   "metadata": {},
   "outputs": [
    {
     "name": "stdout",
     "output_type": "stream",
     "text": [
      "3\n",
      "5\n",
      "8\n"
     ]
    }
   ],
   "source": [
    "def sum_double(a, b):\n",
    "  if a != b:\n",
    "    return a+b\n",
    "  else:\n",
    "    return 2*(a+b)\n",
    "\n",
    "print(sum_double(1, 2))\n",
    "print(sum_double(3, 2))\n",
    "print(sum_double(2, 2))"
   ]
  },
  {
   "cell_type": "markdown",
   "metadata": {},
   "source": [
    "# diff21\n",
    "<a>Task</a> : Given an int n, return the absolute difference between n and 21, except return double the absolute difference if n is over 21.\n",
    "\n",
    "<a>Example</a> : diff21(19) → 2\n",
    "\n",
    "diff21(10) → 11\n",
    "\n",
    "diff21(21) → 0"
   ]
  },
  {
   "cell_type": "code",
   "execution_count": 5,
   "metadata": {},
   "outputs": [
    {
     "name": "stdout",
     "output_type": "stream",
     "text": [
      "2\n",
      "11\n",
      "0\n"
     ]
    }
   ],
   "source": [
    "def diff21(n):\n",
    "  if n<21:\n",
    "    return abs(n-21)\n",
    "  else:\n",
    "    return 2*(n-21)\n",
    "\n",
    "print(diff21(19))\n",
    "print(diff21(10))\n",
    "print(diff21(21))"
   ]
  },
  {
   "cell_type": "markdown",
   "metadata": {},
   "source": [
    "# parrot_trouble\n",
    "<a>Task</a> : We have a loud talking parrot. The \"hour\" parameter is the current hour time in the range 0..23. We are in trouble if the parrot is talking and the hour is before 7 or after 20. Return True if we are in trouble.\n",
    "\n",
    "<a>Example</a> : parrot_trouble(True, 6) → True\n",
    "\n",
    "parrot_trouble(True, 7) → False\n",
    "\n",
    "parrot_trouble(False, 6) → False"
   ]
  },
  {
   "cell_type": "code",
   "execution_count": 6,
   "metadata": {},
   "outputs": [
    {
     "name": "stdout",
     "output_type": "stream",
     "text": [
      "True\n",
      "False\n",
      "False\n"
     ]
    }
   ],
   "source": [
    "def parrot_trouble(talking, hour):\n",
    "  if talking:\n",
    "    if hour < 7 or hour > 20:\n",
    "      return True\n",
    "    else:\n",
    "      return False\n",
    "  else:\n",
    "    return False \n",
    "\n",
    "print(parrot_trouble(True, 6))\n",
    "print(parrot_trouble(True, 7))\n",
    "print(parrot_trouble(False, 6))"
   ]
  },
  {
   "cell_type": "markdown",
   "metadata": {},
   "source": [
    "# makes10\n",
    "<a>Task</a> : Given 2 ints, a and b, return True if one if them is 10 or if their sum is 10.\n",
    "\n",
    "<a>Example</a> : makes10(9, 10) → True\n",
    "\n",
    "makes10(9, 9) → False\n",
    "\n",
    "makes10(1, 9) → True"
   ]
  },
  {
   "cell_type": "code",
   "execution_count": 7,
   "metadata": {},
   "outputs": [
    {
     "name": "stdout",
     "output_type": "stream",
     "text": [
      "True\n",
      "False\n",
      "True\n"
     ]
    }
   ],
   "source": [
    "def makes10(a, b):\n",
    "  if a == 10 or b==10 or a+b == 10:\n",
    "    return True\n",
    "  else:\n",
    "    return False\n",
    "\n",
    "print(makes10(9, 10))\n",
    "print(makes10(9, 9))\n",
    "print(makes10(1, 9))"
   ]
  },
  {
   "cell_type": "markdown",
   "metadata": {},
   "source": [
    "# near_hundred\n",
    "<a>Task</a> : Given an int n, return True if it is within 10 of 100 or 200. Note: abs(num) computes the absolute value of a number.\n",
    "\n",
    "<a>Example</a> : near_hundred(93) → True\n",
    "\n",
    "near_hundred(90) → True\n",
    "\n",
    "near_hundred(89) → False"
   ]
  },
  {
   "cell_type": "code",
   "execution_count": 8,
   "metadata": {},
   "outputs": [
    {
     "name": "stdout",
     "output_type": "stream",
     "text": [
      "True\n",
      "True\n",
      "False\n"
     ]
    }
   ],
   "source": [
    "def near_hundred(n):\n",
    "  if abs(n-100)<11 or abs(n-200) < 11:\n",
    "    return True\n",
    "  else:\n",
    "    return False\n",
    "\n",
    "print(near_hundred(93))\n",
    "print(near_hundred(90))\n",
    "print(near_hundred(89))"
   ]
  },
  {
   "cell_type": "markdown",
   "metadata": {},
   "source": [
    "# pos_neg\n",
    "<a>Task</a> : Given 2 int values, return True if one is negative and one is positive. Except if the parameter \"negative\" is True, then return True only if both are negative.\n",
    "\n",
    "<a>Example</a> : pos_neg(1, -1, False) → True\n",
    "\n",
    "pos_neg(-1, 1, False) → True\n",
    "\n",
    "pos_neg(-4, -5, True) → True"
   ]
  },
  {
   "cell_type": "code",
   "execution_count": 10,
   "metadata": {},
   "outputs": [
    {
     "name": "stdout",
     "output_type": "stream",
     "text": [
      "True\n",
      "True\n",
      "True\n",
      "False\n"
     ]
    }
   ],
   "source": [
    "def pos_neg(a, b, negative):\n",
    "  if negative == False:\n",
    "    if a*b < 0:\n",
    "      return True\n",
    "    else:\n",
    "      return False\n",
    "  else:\n",
    "    if a*b>0 and (a<0 or b<0):\n",
    "      return True\n",
    "    else:\n",
    "      return False\n",
    "\n",
    "print(pos_neg(1, -1, False))\n",
    "print(pos_neg(-1, 1, False))\n",
    "print(pos_neg(-4, -5, True))\n",
    "print(pos_neg(4, 5, True))"
   ]
  },
  {
   "cell_type": "markdown",
   "metadata": {},
   "source": [
    "# not_string\n",
    "<a>Task</a> : Given a string, return a new string where \"not \" has been added to the front. However, if the string already begins with \"not\", return the string unchanged.\n",
    "\n",
    "<a>Example</a> : not_string('candy') → 'not candy'\n",
    "\n",
    "not_string('x') → 'not x'\n",
    "\n",
    "not_string('not bad') → 'not bad'"
   ]
  },
  {
   "cell_type": "code",
   "execution_count": 11,
   "metadata": {},
   "outputs": [
    {
     "name": "stdout",
     "output_type": "stream",
     "text": [
      "not candy\n",
      "not x\n",
      "not bad\n"
     ]
    }
   ],
   "source": [
    "def not_string(str):\n",
    "  if str.startswith(\"not\"):\n",
    "    return str\n",
    "  else:\n",
    "    return \"not \"+ str\n",
    "\n",
    "print(not_string('candy'))\n",
    "print(not_string('x'))\n",
    "print(not_string('not bad'))"
   ]
  },
  {
   "cell_type": "markdown",
   "metadata": {},
   "source": [
    "# missing_char\n",
    "<a>Task</a> : Given a non-empty string and an int n, return a new string where the char at index n has been removed. The value of n will be a valid index of a char in the original string (i.e. n will be in the range 0..len(str)-1 inclusive).\n",
    "\n",
    "<a>Example</a> : missing_char('kitten', 1) → 'ktten'\n",
    "\n",
    "missing_char('kitten', 0) → 'itten'\n",
    "\n",
    "missing_char('kitten', 4) → 'kittn'"
   ]
  },
  {
   "cell_type": "code",
   "execution_count": 12,
   "metadata": {},
   "outputs": [
    {
     "name": "stdout",
     "output_type": "stream",
     "text": [
      "ktten\n",
      "itten\n",
      "kittn\n"
     ]
    }
   ],
   "source": [
    "def missing_char(str, n):\n",
    "  return str[:n] + str[n+1:]\n",
    "  \n",
    "print(missing_char('kitten', 1))\n",
    "print(missing_char('kitten', 0))\n",
    "print(missing_char('kitten', 4))"
   ]
  },
  {
   "cell_type": "markdown",
   "metadata": {},
   "source": [
    "# front_back\n",
    "<a>Task</a> : Given a string, return a new string where the first and last chars have been exchanged.\n",
    "\n",
    "<a>Example</a> : front_back('code') → 'eodc'\n",
    "\n",
    "front_back('a') → 'a'\n",
    "\n",
    "front_back('ab') → 'ba'"
   ]
  },
  {
   "cell_type": "code",
   "execution_count": 14,
   "metadata": {},
   "outputs": [
    {
     "name": "stdout",
     "output_type": "stream",
     "text": [
      "eodc\n",
      "a\n",
      "\n",
      "ba\n"
     ]
    }
   ],
   "source": [
    "def front_back(str):\n",
    "  if len(str)<=1:\n",
    "    return str\n",
    "  elif len(str)==2:\n",
    "    return str[-1] + str[0]\n",
    "  else:\n",
    "    return str[-1] + str[1:-1] +str[0]\n",
    "\n",
    "print(front_back('code'))\n",
    "print(front_back('a'))\n",
    "print(front_back(''))\n",
    "print(front_back('ab'))"
   ]
  },
  {
   "cell_type": "markdown",
   "metadata": {},
   "source": [
    "# front3\n",
    "<a>Task</a> : Given a string, we'll say that the front is the first 3 chars of the string. If the string length is less than 3, the front is whatever is there. Return a new string which is 3 copies of the front.\n",
    "\n",
    "<a>Example</a> : front3('Java') → 'JavJavJav'\n",
    "\n",
    "front3('Chocolate') → 'ChoChoCho'\n",
    "\n",
    "front3('abc') → 'abcabcabc'"
   ]
  },
  {
   "cell_type": "code",
   "execution_count": 16,
   "metadata": {},
   "outputs": [
    {
     "name": "stdout",
     "output_type": "stream",
     "text": [
      "JavJavJav\n",
      "ChoChoCho\n",
      "ababab\n",
      "abcabcabc\n"
     ]
    }
   ],
   "source": [
    "def front3(str):\n",
    "  return str[:3]*3\n",
    "\n",
    "print(front3('Java'))\n",
    "print(front3('Chocolate'))\n",
    "print(front3('ab'))\n",
    "print(front3('abc'))"
   ]
  },
  {
   "cell_type": "markdown",
   "metadata": {},
   "source": [
    "# Warmup-2"
   ]
  },
  {
   "cell_type": "markdown",
   "metadata": {},
   "source": [
    "# string_times\n",
    "<a>Task</a> : Given a string and a non-negative int n, return a larger string that is n copies of the original string.\n",
    "\n",
    "<a>Example</a> : string_times('Hi', 2) → 'HiHi'\n",
    "\n",
    "string_times('Hi', 3) → 'HiHiHi'\n",
    "\n",
    "string_times('Hi', 1) → 'Hi'"
   ]
  },
  {
   "cell_type": "code",
   "execution_count": 17,
   "metadata": {},
   "outputs": [
    {
     "name": "stdout",
     "output_type": "stream",
     "text": [
      "HiHi\n",
      "HiHiHi\n",
      "Hi\n"
     ]
    }
   ],
   "source": [
    "def string_times(str, n):\n",
    "  return str*n\n",
    "\n",
    "print(string_times('Hi', 2))\n",
    "print(string_times('Hi', 3))\n",
    "print(string_times('Hi', 1))"
   ]
  },
  {
   "cell_type": "markdown",
   "metadata": {},
   "source": [
    "# front_times\n",
    "<a>Task</a> : Given a string and a non-negative int n, we'll say that the front of the string is the first 3 chars, or whatever is there if the string is less than length 3. Return n copies of the front;\n",
    "\n",
    "<a>Example</a> : front_times('Chocolate', 2) → 'ChoCho'\n",
    "\n",
    "front_times('Chocolate', 3) → 'ChoChoCho'\n",
    "\n",
    "front_times('Abc', 3) → 'AbcAbcAbc'"
   ]
  },
  {
   "cell_type": "code",
   "execution_count": 18,
   "metadata": {},
   "outputs": [
    {
     "name": "stdout",
     "output_type": "stream",
     "text": [
      "ChoCho\n",
      "ChoChoCho\n",
      "AbcAbcAbc\n"
     ]
    }
   ],
   "source": [
    "def front_times(str, n):\n",
    "  return str[:3] * n\n",
    "\n",
    "print(front_times('Chocolate', 2))\n",
    "print(front_times('Chocolate', 3))\n",
    "print(front_times('Abc', 3))"
   ]
  },
  {
   "cell_type": "markdown",
   "metadata": {},
   "source": [
    "# string_bits\n",
    "<a>Task</a> : Given a string, return a new string made of every other char starting with the first, so \"Hello\" yields \"Hlo\".\n",
    "\n",
    "<a>Example</a> : string_bits('Hello') → 'Hlo'\n",
    "\n",
    "string_bits('Hi') → 'H'\n",
    "\n",
    "string_bits('Heeololeo') → 'Hello'"
   ]
  },
  {
   "cell_type": "code",
   "execution_count": 19,
   "metadata": {},
   "outputs": [
    {
     "name": "stdout",
     "output_type": "stream",
     "text": [
      "Hlo\n",
      "H\n",
      "Hello\n"
     ]
    }
   ],
   "source": [
    "def string_bits(str):\n",
    "  return str[::2]\n",
    "\n",
    "print(string_bits('Hello'))\n",
    "print(string_bits('Hi'))\n",
    "print(string_bits('Heeololeo'))"
   ]
  },
  {
   "cell_type": "markdown",
   "metadata": {},
   "source": [
    "# string_splosion\n",
    "<a>Task</a> : Given a non-empty string like \"Code\" return a string like \"CCoCodCode\".\n",
    "\n",
    "<a>Example</a> : string_splosion('Code') → 'CCoCodCode'\n",
    "\n",
    "string_splosion('abc') → 'aababc'\n",
    "\n",
    "string_splosion('ab') → 'aab'"
   ]
  },
  {
   "cell_type": "code",
   "execution_count": 20,
   "metadata": {},
   "outputs": [
    {
     "name": "stdout",
     "output_type": "stream",
     "text": [
      "CCoCodCode\n",
      "aababc\n",
      "aab\n"
     ]
    }
   ],
   "source": [
    "def string_splosion(str):\n",
    "  new = str[0]\n",
    "  for i in range(1,len(str)):\n",
    "    new = new + str[:i+1]\n",
    "  return new\n",
    "  \n",
    "print(string_splosion('Code'))\n",
    "print(string_splosion('abc'))\n",
    "print(string_splosion('ab'))"
   ]
  },
  {
   "cell_type": "markdown",
   "metadata": {},
   "source": [
    "# last2\n",
    "<a>Task</a> : Given a string, return the count of the number of times that a substring length 2 appears in the string and also as the last 2 chars of the string, so \"hixxxhi\" yields 1 (we won't count the end substring).\n",
    "\n",
    "<a>Example</a> : last2('hixxhi') → 1\n",
    "\n",
    "last2('xaxxaxaxx') → 1\n",
    "\n",
    "last2('axxxaaxx') → 2"
   ]
  },
  {
   "cell_type": "code",
   "execution_count": 21,
   "metadata": {},
   "outputs": [
    {
     "name": "stdout",
     "output_type": "stream",
     "text": [
      "1\n",
      "1\n",
      "2\n"
     ]
    }
   ],
   "source": [
    "def last2(str):\n",
    "  \n",
    "  if len(str) < 3:\n",
    "    return 0\n",
    "  else:\n",
    "    last = str[-2:]\n",
    "    counter = 0\n",
    "    for i in range(len(str)-2):\n",
    "      if str[i:i+2] == last:\n",
    "        counter +=1\n",
    "    return counter\n",
    "\n",
    "print(last2('hixxhi'))\n",
    "print(last2('xaxxaxaxx'))\n",
    "print(last2('axxxaaxx'))"
   ]
  },
  {
   "cell_type": "markdown",
   "metadata": {},
   "source": [
    "# array_count9\n",
    "<a>Task</a> : Given an array of ints, return the number of 9's in the array.\n",
    "\n",
    "<a>Example</a> : array_count9([1, 2, 9]) → 1\n",
    "\n",
    "array_count9([1, 9, 9]) → 2\n",
    "\n",
    "array_count9([1, 9, 9, 3, 9]) → 3"
   ]
  },
  {
   "cell_type": "code",
   "execution_count": 22,
   "metadata": {},
   "outputs": [
    {
     "name": "stdout",
     "output_type": "stream",
     "text": [
      "1\n",
      "2\n",
      "3\n"
     ]
    }
   ],
   "source": [
    "def array_count9(nums):\n",
    "  counter = 0\n",
    "  for i in nums:\n",
    "    if i == 9:\n",
    "      counter += 1\n",
    "  return counter\n",
    "\n",
    "print(array_count9([1, 2, 9]))\n",
    "print(array_count9([1, 9, 9]))\n",
    "print(array_count9([1, 9, 9, 3, 9]))"
   ]
  },
  {
   "cell_type": "markdown",
   "metadata": {},
   "source": [
    "# array_front9\n",
    "<a>Task</a> : Given an array of ints, return True if one of the first 4 elements in the array is a 9. The array length may be less than 4.\n",
    "\n",
    "<a>Example</a> : array_front9([1, 2, 9, 3, 4]) → True\n",
    "\n",
    "array_front9([1, 2, 3, 4, 9]) → False\n",
    "\n",
    "array_front9([1, 2, 3, 4, 5]) → False"
   ]
  },
  {
   "cell_type": "code",
   "execution_count": 23,
   "metadata": {},
   "outputs": [
    {
     "name": "stdout",
     "output_type": "stream",
     "text": [
      "True\n",
      "False\n",
      "False\n"
     ]
    }
   ],
   "source": [
    "def array_front9(nums):\n",
    "  sub_list = nums[:4]\n",
    "  if 9 in sub_list:\n",
    "    return True\n",
    "  else:\n",
    "    return False\n",
    "    \n",
    "print(array_front9([1, 2, 9, 3, 4]))\n",
    "print(array_front9([1, 2, 3, 4, 9]))\n",
    "print(array_front9([1, 2, 3, 4, 5]))"
   ]
  },
  {
   "cell_type": "markdown",
   "metadata": {},
   "source": [
    "# array123\n",
    "<a>Task</a> : Given an array of ints, return True if the sequence of numbers 1, 2, 3 appears in the array somewhere.\n",
    "\n",
    "<a>Example</a> : array123([1, 1, 2, 3, 1]) → True\n",
    "\n",
    "array123([1, 1, 2, 4, 1]) → False\n",
    "\n",
    "array123([1, 1, 2, 1, 2, 3]) → True"
   ]
  },
  {
   "cell_type": "code",
   "execution_count": 26,
   "metadata": {},
   "outputs": [
    {
     "name": "stdout",
     "output_type": "stream",
     "text": [
      "True\n",
      "False\n",
      "True\n"
     ]
    }
   ],
   "source": [
    "def array123(nums):\n",
    "  subs = {1,2,3}\n",
    "  if subs.issubset(nums):\n",
    "    return True\n",
    "  else:\n",
    "    return False\n",
    "\n",
    "print(array123([1, 1, 2, 3, 1]))\n",
    "print(array123([1, 1, 2, 4, 1]))\n",
    "print(array123([1, 1, 2, 1, 2, 3]))"
   ]
  },
  {
   "cell_type": "markdown",
   "metadata": {},
   "source": [
    "# string_match\n",
    "<a>Task</a> : Given 2 strings, a and b, return the number of the positions where they contain the same length 2 substring. So \"xxcaazz\" and \"xxbaaz\" yields 3, since the \"xx\", \"aa\", and \"az\" substrings appear in the same place in both strings.\n",
    "\n",
    "<a>Example</a> : string_match('xxcaazz', 'xxbaaz') → 3\n",
    "\n",
    "string_match('abc', 'abc') → 2\n",
    "\n",
    "string_match('abc', 'axc') → 0"
   ]
  },
  {
   "cell_type": "code",
   "execution_count": 39,
   "metadata": {},
   "outputs": [
    {
     "name": "stdout",
     "output_type": "stream",
     "text": [
      "3\n",
      "2\n",
      "0\n",
      "1\n",
      "3\n",
      "3\n"
     ]
    }
   ],
   "source": [
    "def string_match(a, b):\n",
    "    counter = 0\n",
    "    for i in range(min(len(a), len(b))-1):\n",
    "        if a[i:i+2] == b[i:i+2]:\n",
    "            counter += 1\n",
    "    return counter\n",
    "\n",
    "print(string_match('xxcaazz', 'xxbaaz'))\n",
    "print(string_match('abc', 'abc'))\n",
    "print(string_match('abc', 'axc'))\n",
    "print(string_match('aabbccdd', 'abbbxxd'))\n",
    "print(string_match('aaxxaaxx', 'iaxxai'))\n",
    "print(string_match('iaxxai', 'aaxxaaxx'))"
   ]
  },
  {
   "cell_type": "markdown",
   "metadata": {},
   "source": [
    "# String-1"
   ]
  },
  {
   "cell_type": "markdown",
   "metadata": {},
   "source": [
    "# hello_name\n",
    "<a>Task</a> : Given a string name, e.g. \"Bob\", return a greeting of the form \"Hello Bob!\".\n",
    "\n",
    "<a>Example</a> : hello_name('Bob') → 'Hello Bob!'\n",
    "\n",
    "hello_name('Alice') → 'Hello Alice!'\n",
    "\n",
    "hello_name('X') → 'Hello X!'"
   ]
  },
  {
   "cell_type": "code",
   "execution_count": 1,
   "metadata": {},
   "outputs": [
    {
     "name": "stdout",
     "output_type": "stream",
     "text": [
      "Hello Bob!\n",
      "Hello Alice!\n",
      "Hello X!\n"
     ]
    }
   ],
   "source": [
    "def hello_name(name):\n",
    "  return \"Hello \" + name +\"!\"\n",
    "print(hello_name('Bob'))\n",
    "print(hello_name('Alice'))\n",
    "print(hello_name('X'))"
   ]
  },
  {
   "cell_type": "markdown",
   "metadata": {},
   "source": [
    "# make_abba\n",
    "<a>Task</a> : Given two strings, a and b, return the result of putting them together in the order abba, e.g. \"Hi\" and \"Bye\" returns \"HiByeByeHi\".\n",
    "\n",
    "<a>Example</a> : make_abba('Hi', 'Bye') → 'HiByeByeHi'\n",
    "\n",
    "make_abba('Yo', 'Alice') → 'YoAliceAliceYo'\n",
    "\n",
    "make_abba('What', 'Up') → 'WhatUpUpWhat'"
   ]
  },
  {
   "cell_type": "code",
   "execution_count": 2,
   "metadata": {},
   "outputs": [
    {
     "name": "stdout",
     "output_type": "stream",
     "text": [
      "HiByeByeHi\n",
      "YoAliceAliceYo\n",
      "WhatUpUpWhat\n"
     ]
    }
   ],
   "source": [
    "def make_abba(a, b):\n",
    "  return a+b+b+a\n",
    "print(make_abba('Hi', 'Bye'))\n",
    "print(make_abba('Yo', 'Alice'))\n",
    "print(make_abba('What', 'Up'))"
   ]
  },
  {
   "cell_type": "markdown",
   "metadata": {},
   "source": [
    "# make_tags\n",
    "<a>Task</a> : The web is built with HTML strings like \"<i>Yay</i>\" which draws Yay as italic text. In this example, the \"i\" tag makes <i> and </i> which surround the word \"Yay\". Given tag and word strings, create the HTML string with tags around the word, e.g. \"<i>Yay</i>\".\n",
    "\n",
    "<a>Example</a> : make_tags('i', 'Yay') → '<i>Yay</i>'\n",
    "\n",
    "make_tags('i', 'Hello') → '<i>Hello</i>'\n",
    "\n",
    "make_tags('cite', 'Yay') → '<cite>Yay</cite>'"
   ]
  },
  {
   "cell_type": "code",
   "execution_count": 3,
   "metadata": {},
   "outputs": [
    {
     "name": "stdout",
     "output_type": "stream",
     "text": [
      "<i>Yay</i>\n",
      "<i>Hello</i>\n",
      "<cite>Yay</cite>\n"
     ]
    }
   ],
   "source": [
    "def make_tags(tag, word):\n",
    "  return \"<\"+tag+\">\"+word+\"</\"+tag+\">\"\n",
    "print(make_tags('i', 'Yay'))\n",
    "print(make_tags('i', 'Hello'))\n",
    "print(make_tags('cite', 'Yay'))"
   ]
  },
  {
   "cell_type": "markdown",
   "metadata": {},
   "source": [
    "# make_out_word\n",
    "<a>Task</a> : Given an \"out\" string length 4, such as \"<<>>\", and a word, return a new string where the word is in the middle of the out string, e.g. \"<<word>>\".\n",
    "\n",
    "<a>Example</a> : make_out_word('<<>>', 'Yay') → '<<Yay>>'\n",
    "\n",
    "make_out_word('<<>>', 'WooHoo') → '<<WooHoo>>'\n",
    "\n",
    "make_out_word('[[]]', 'word') → '[[word]]'"
   ]
  },
  {
   "cell_type": "code",
   "execution_count": 5,
   "metadata": {},
   "outputs": [
    {
     "name": "stdout",
     "output_type": "stream",
     "text": [
      "<<Yay>>\n",
      "<<WooHoo>>\n",
      "[[word]]\n"
     ]
    }
   ],
   "source": [
    "def make_out_word(out, word):\n",
    "  return out[:int(len(out)/2)] +word+out[int(len(out)/2):]\n",
    "print(make_out_word('<<>>', 'Yay'))\n",
    "print(make_out_word('<<>>', 'WooHoo'))\n",
    "print(make_out_word('[[]]', 'word'))"
   ]
  },
  {
   "cell_type": "markdown",
   "metadata": {},
   "source": [
    "# extra_end\n",
    "<a>Task</a> : Given a string, return a new string made of 3 copies of the last 2 chars of the original string. The string length will be at least 2.\n",
    "\n",
    "<a>Example</a> : extra_end('Hello') → 'lololo'\n",
    "\n",
    "extra_end('ab') → 'ababab'\n",
    "\n",
    "extra_end('Hi') → 'HiHiHi'"
   ]
  },
  {
   "cell_type": "code",
   "execution_count": 6,
   "metadata": {},
   "outputs": [
    {
     "name": "stdout",
     "output_type": "stream",
     "text": [
      "lololo\n",
      "ababab\n",
      "HiHiHi\n"
     ]
    }
   ],
   "source": [
    "def extra_end(str):\n",
    "  return str[-2:]*3\n",
    "print(extra_end('Hello'))\n",
    "print(extra_end('ab'))\n",
    "print(extra_end('Hi'))"
   ]
  },
  {
   "cell_type": "markdown",
   "metadata": {},
   "source": [
    "# first_two\n",
    "<a>Task</a> : Given a string, return the string made of its first two chars, so the String \"Hello\" yields \"He\". If the string is shorter than length 2, return whatever there is, so \"X\" yields \"X\", and the empty string \"\" yields the empty string \"\".\n",
    "\n",
    "<a>Example</a> : first_two('Hello') → 'He'\n",
    "\n",
    "first_two('abcdefg') → 'ab'\n",
    "\n",
    "first_two('ab') → 'ab'"
   ]
  },
  {
   "cell_type": "code",
   "execution_count": 7,
   "metadata": {},
   "outputs": [
    {
     "name": "stdout",
     "output_type": "stream",
     "text": [
      "He\n",
      "ab\n",
      "ab\n"
     ]
    }
   ],
   "source": [
    "def first_two(str):\n",
    "  if len(str) < 3:\n",
    "    return str\n",
    "  else:\n",
    "    return str[:2]\n",
    "print(first_two('Hello'))\n",
    "print(first_two('abcdefg'))\n",
    "print(first_two('ab'))"
   ]
  },
  {
   "cell_type": "markdown",
   "metadata": {},
   "source": [
    "# first_half\n",
    "<a>Task</a> : Given a string of even length, return the first half. So the string \"WooHoo\" yields \"Woo\".\n",
    "\n",
    "<a>Example</a> : first_half('WooHoo') → 'Woo'\n",
    "\n",
    "first_half('HelloThere') → 'Hello'\n",
    "\n",
    "first_half('abcdef') → 'abc'"
   ]
  },
  {
   "cell_type": "code",
   "execution_count": 8,
   "metadata": {},
   "outputs": [
    {
     "name": "stdout",
     "output_type": "stream",
     "text": [
      "Woo\n",
      "Hello\n",
      "abc\n"
     ]
    }
   ],
   "source": [
    "def first_half(str):\n",
    "  return str[:int(len(str)/2)]\n",
    "print(first_half('WooHoo'))\n",
    "print(first_half('HelloThere'))\n",
    "print(first_half('abcdef'))"
   ]
  },
  {
   "cell_type": "markdown",
   "metadata": {},
   "source": [
    "# without_end\n",
    "<a>Task</a> : Given a string, return a version without the first and last char, so \"Hello\" yields \"ell\". The string length will be at least 2.\n",
    "\n",
    "<a>Example</a> : without_end('Hello') → 'ell'\n",
    "\n",
    "without_end('java') → 'av'\n",
    "\n",
    "without_end('coding') → 'odin'"
   ]
  },
  {
   "cell_type": "code",
   "execution_count": 9,
   "metadata": {},
   "outputs": [
    {
     "name": "stdout",
     "output_type": "stream",
     "text": [
      "ell\n",
      "av\n",
      "odin\n"
     ]
    }
   ],
   "source": [
    "def without_end(str):\n",
    "  return str[1:-1]\n",
    "print(without_end('Hello'))\n",
    "print(without_end('java'))\n",
    "print(without_end('coding'))"
   ]
  },
  {
   "cell_type": "markdown",
   "metadata": {},
   "source": [
    "# combo_string\n",
    "<a>Task</a> : Given 2 strings, a and b, return a string of the form short+long+short, with the shorter string on the outside and the longer string on the inside. The strings will not be the same length, but they may be empty (length 0).\n",
    "\n",
    "<a>Example</a> : combo_string('Hello', 'hi') → 'hiHellohi'\n",
    "\n",
    "combo_string('hi', 'Hello') → 'hiHellohi'\n",
    "\n",
    "combo_string('aaa', 'b') → 'baaab'"
   ]
  },
  {
   "cell_type": "code",
   "execution_count": 10,
   "metadata": {},
   "outputs": [
    {
     "name": "stdout",
     "output_type": "stream",
     "text": [
      "hiHellohi\n",
      "hiHellohi\n",
      "baaab\n"
     ]
    }
   ],
   "source": [
    "def combo_string(a, b):\n",
    "  if len(a)>len(b):\n",
    "    return b+a+b\n",
    "  else:\n",
    "    return a+b+a\n",
    "print(combo_string('Hello', 'hi'))\n",
    "print(combo_string('hi', 'Hello'))\n",
    "print(combo_string('aaa', 'b'))"
   ]
  },
  {
   "cell_type": "markdown",
   "metadata": {},
   "source": [
    "# non_start\n",
    "<a>Task</a> : Given 2 strings, return their concatenation, except omit the first char of each. The strings will be at least length 1.\n",
    "\n",
    "<a>Example</a> : non_start('Hello', 'There') → 'ellohere'\n",
    "\n",
    "non_start('java', 'code') → 'avaode'\n",
    "\n",
    "non_start('shotl', 'java') → 'hotlava'"
   ]
  },
  {
   "cell_type": "code",
   "execution_count": 11,
   "metadata": {},
   "outputs": [
    {
     "name": "stdout",
     "output_type": "stream",
     "text": [
      "ellohere\n",
      "avaode\n",
      "hotlava\n"
     ]
    }
   ],
   "source": [
    "def non_start(a, b):\n",
    "  return a[1:]+b[1:]\n",
    "print(non_start('Hello', 'There'))\n",
    "print(non_start('java', 'code'))\n",
    "print(non_start('shotl', 'java'))"
   ]
  },
  {
   "cell_type": "markdown",
   "metadata": {},
   "source": [
    "# left2\n",
    "<a>Task</a> : Given a string, return a \"rotated left 2\" version where the first 2 chars are moved to the end. The string length will be at least 2.\n",
    "\n",
    "<a>Example</a> : left2('Hello') → 'lloHe'\n",
    "\n",
    "left2('java') → 'vaja'\n",
    "\n",
    "left2('Hi') → 'Hi'"
   ]
  },
  {
   "cell_type": "code",
   "execution_count": 12,
   "metadata": {},
   "outputs": [
    {
     "name": "stdout",
     "output_type": "stream",
     "text": [
      "lloHe\n",
      "vaja\n",
      "Hi\n"
     ]
    }
   ],
   "source": [
    "def left2(str):\n",
    "  return str[2:]+str[:2]\n",
    "print(left2('Hello'))\n",
    "print(left2('java'))\n",
    "print(left2('Hi'))"
   ]
  },
  {
   "cell_type": "markdown",
   "metadata": {},
   "source": [
    "# List-1"
   ]
  },
  {
   "cell_type": "markdown",
   "metadata": {},
   "source": [
    "# first_last6\n",
    "<a>Task</a> : Given an array of ints, return True if 6 appears as either the first or last element in the array. The array will be length 1 or more.\n",
    "\n",
    "<a>Example</a> : first_last6([1, 2, 6]) → True\n",
    "\n",
    "first_last6([6, 1, 2, 3]) → True\n",
    "\n",
    "first_last6([13, 6, 1, 2, 3]) → False"
   ]
  },
  {
   "cell_type": "code",
   "execution_count": 13,
   "metadata": {},
   "outputs": [
    {
     "name": "stdout",
     "output_type": "stream",
     "text": [
      "True\n",
      "True\n",
      "False\n"
     ]
    }
   ],
   "source": [
    "def first_last6(nums):\n",
    "  return (nums[0] == 6 or nums[-1]==6)\n",
    "print(first_last6([1, 2, 6]))\n",
    "print(first_last6([6, 1, 2, 3]))\n",
    "print(first_last6([13, 6, 1, 2, 3]))"
   ]
  },
  {
   "cell_type": "markdown",
   "metadata": {},
   "source": [
    "# same_first_last\n",
    "<a>Task</a> : Given an array of ints, return True if the array is length 1 or more, and the first element and the last element are equal.\n",
    "\n",
    "<a>Example</a> : same_first_last([1, 2, 3]) → False\n",
    "\n",
    "same_first_last([1, 2, 3, 1]) → True\n",
    "\n",
    "same_first_last([1, 2, 1]) → True"
   ]
  },
  {
   "cell_type": "code",
   "execution_count": 14,
   "metadata": {},
   "outputs": [
    {
     "name": "stdout",
     "output_type": "stream",
     "text": [
      "False\n",
      "True\n",
      "True\n"
     ]
    }
   ],
   "source": [
    "def same_first_last(nums):\n",
    "  return (len(nums)>0 and nums[0]==nums[-1])\n",
    "print(same_first_last([1, 2, 3]))\n",
    "print(same_first_last([1, 2, 3, 1]))\n",
    "print(same_first_last([1, 2, 1]))"
   ]
  },
  {
   "cell_type": "markdown",
   "metadata": {},
   "source": [
    "# make_pi\n",
    "<a>Task</a> : Return an int array length 3 containing the first 3 digits of pi, {3, 1, 4}.\n",
    "\n",
    "<a>Example</a> : make_pi() → [3, 1, 4]"
   ]
  },
  {
   "cell_type": "code",
   "execution_count": 17,
   "metadata": {},
   "outputs": [
    {
     "name": "stdout",
     "output_type": "stream",
     "text": [
      "[3, 1, 4]\n"
     ]
    }
   ],
   "source": [
    "def make_pi():\n",
    "  return [3,1,4]\n",
    "\n",
    "print(make_pi())"
   ]
  },
  {
   "cell_type": "markdown",
   "metadata": {},
   "source": [
    "# common_end\n",
    "<a>Task</a> : Given 2 arrays of ints, a and b, return True if they have the same first element or they have the same last element. Both arrays will be length 1 or more.\n",
    "\n",
    "<a>Example</a> : common_end([1, 2, 3], [7, 3]) → True\n",
    "\n",
    "common_end([1, 2, 3], [7, 3, 2]) → False\n",
    "\n",
    "common_end([1, 2, 3], [1, 3]) → True"
   ]
  },
  {
   "cell_type": "code",
   "execution_count": 18,
   "metadata": {},
   "outputs": [
    {
     "name": "stdout",
     "output_type": "stream",
     "text": [
      "True\n",
      "False\n",
      "True\n"
     ]
    }
   ],
   "source": [
    "def common_end(a, b):\n",
    "  return (a[0]== b[0] or a[-1] ==b[-1])\n",
    "print(common_end([1, 2, 3], [7, 3]))\n",
    "print(common_end([1, 2, 3], [7, 3, 2]))\n",
    "print(common_end([1, 2, 3], [1, 3]))"
   ]
  },
  {
   "cell_type": "markdown",
   "metadata": {},
   "source": [
    "# sum3\n",
    "<a>Task</a> : Given an array of ints length 3, return the sum of all the elements.\n",
    "\n",
    "<a>Example</a> : sum3([1, 2, 3]) → 6\n",
    "\n",
    "sum3([5, 11, 2]) → 18\n",
    "\n",
    "sum3([7, 0, 0]) → 7"
   ]
  },
  {
   "cell_type": "code",
   "execution_count": 19,
   "metadata": {},
   "outputs": [
    {
     "name": "stdout",
     "output_type": "stream",
     "text": [
      "6\n",
      "18\n",
      "7\n"
     ]
    }
   ],
   "source": [
    "def sum3(nums):\n",
    "  return sum(nums)\n",
    "print(sum3([1, 2, 3]))\n",
    "print(sum3([5, 11, 2]))\n",
    "print(sum3([7, 0, 0]))"
   ]
  },
  {
   "cell_type": "markdown",
   "metadata": {},
   "source": [
    "# rotate_left3\n",
    "<a>Task</a> : Given an array of ints length 3, return an array with the elements \"rotated left\" so {1, 2, 3} yields {2, 3, 1}.\n",
    "\n",
    "<a>Example</a> : rotate_left3([1, 2, 3]) → [2, 3, 1]\n",
    "\n",
    "rotate_left3([5, 11, 9]) → [11, 9, 5]\n",
    "\n",
    "rotate_left3([7, 0, 0]) → [0, 0, 7]"
   ]
  },
  {
   "cell_type": "code",
   "execution_count": 20,
   "metadata": {},
   "outputs": [
    {
     "name": "stdout",
     "output_type": "stream",
     "text": [
      "[2, 3, 1]\n",
      "[11, 9, 5]\n",
      "[0, 0, 7]\n"
     ]
    }
   ],
   "source": [
    "def rotate_left3(nums):\n",
    "  temp = nums[0]\n",
    "  nums.remove(temp)\n",
    "  nums.append(temp)\n",
    "  return nums\n",
    "print(rotate_left3([1, 2, 3]))\n",
    "print(rotate_left3([5, 11, 9]))\n",
    "print(rotate_left3([7, 0, 0]))"
   ]
  },
  {
   "cell_type": "markdown",
   "metadata": {},
   "source": [
    "# reverse3\n",
    "<a>Task</a> : Given an array of ints length 3, return a new array with the elements in reverse order, so {1, 2, 3} becomes {3, 2, 1}.\n",
    "\n",
    "<a>Example</a> : reverse3([1, 2, 3]) → [3, 2, 1]\n",
    "\n",
    "reverse3([5, 11, 9]) → [9, 11, 5]\n",
    "\n",
    "reverse3([7, 0, 0]) → [0, 0, 7]"
   ]
  },
  {
   "cell_type": "code",
   "execution_count": 21,
   "metadata": {},
   "outputs": [
    {
     "name": "stdout",
     "output_type": "stream",
     "text": [
      "[3, 2, 1]\n",
      "[9, 11, 5]\n",
      "[0, 0, 7]\n"
     ]
    }
   ],
   "source": [
    "def reverse3(nums):\n",
    "  return nums[::-1]\n",
    "print(reverse3([1, 2, 3]))\n",
    "print(reverse3([5, 11, 9]))\n",
    "print(reverse3([7, 0, 0]))"
   ]
  },
  {
   "cell_type": "markdown",
   "metadata": {},
   "source": [
    "# max_end3\n",
    "<a>Task</a> : Given an array of ints length 3, figure out which is larger, the first or last element in the array, and set all the other elements to be that value. Return the changed array.\n",
    "\n",
    "<a>Example</a> : max_end3([1, 2, 3]) → [3, 3, 3]\n",
    "\n",
    "max_end3([11, 5, 9]) → [11, 11, 11]\n",
    "\n",
    "max_end3([2, 11, 3]) → [3, 3, 3]"
   ]
  },
  {
   "cell_type": "code",
   "execution_count": 22,
   "metadata": {},
   "outputs": [
    {
     "name": "stdout",
     "output_type": "stream",
     "text": [
      "[3, 3, 3]\n",
      "[11, 11, 11]\n",
      "[3, 3, 3]\n"
     ]
    }
   ],
   "source": [
    "def max_end3(nums):\n",
    "  max_num = max(nums[0], nums[-1])\n",
    "  return [max_num for i in range(len(nums))]\n",
    "print(max_end3([1, 2, 3]))\n",
    "print(max_end3([11, 5, 9]))\n",
    "print(max_end3([2, 11, 3]))"
   ]
  },
  {
   "cell_type": "markdown",
   "metadata": {},
   "source": [
    "# sum2\n",
    "<a>Task</a> : Given an array of ints, return the sum of the first 2 elements in the array. If the array length is less than 2, just sum up the elements that exist, returning 0 if the array is length 0.\n",
    "\n",
    "<a>Example</a> : sum2([1, 2, 3]) → 3\n",
    "\n",
    "sum2([1, 1]) → 2\n",
    "\n",
    "sum2([1, 1, 1, 1]) → 2"
   ]
  },
  {
   "cell_type": "code",
   "execution_count": 23,
   "metadata": {},
   "outputs": [
    {
     "name": "stdout",
     "output_type": "stream",
     "text": [
      "3\n",
      "2\n",
      "2\n"
     ]
    }
   ],
   "source": [
    "def sum2(nums):\n",
    "  return sum(nums[:2])\n",
    "print(sum2([1, 2, 3]))\n",
    "print(sum2([1, 1]))\n",
    "print(sum2([1, 1, 1, 1]))"
   ]
  },
  {
   "cell_type": "markdown",
   "metadata": {},
   "source": [
    "# middle_way\n",
    "<a>Task</a> : Given 2 int arrays, a and b, each length 3, return a new array length 2 containing their middle elements.\n",
    "\n",
    "<a>Example</a> : middle_way([1, 2, 3], [4, 5, 6]) → [2, 5]\n",
    "\n",
    "middle_way([7, 7, 7], [3, 8, 0]) → [7, 8]\n",
    "\n",
    "middle_way([5, 2, 9], [1, 4, 5]) → [2, 4]"
   ]
  },
  {
   "cell_type": "code",
   "execution_count": 24,
   "metadata": {},
   "outputs": [
    {
     "name": "stdout",
     "output_type": "stream",
     "text": [
      "[2, 5]\n",
      "[7, 8]\n",
      "[2, 4]\n"
     ]
    }
   ],
   "source": [
    "def middle_way(a, b):\n",
    "  return [a[1],b[1]]\n",
    "print(middle_way([1, 2, 3], [4, 5, 6]))\n",
    "print(middle_way([7, 7, 7], [3, 8, 0]))\n",
    "print(middle_way([5, 2, 9], [1, 4, 5]))"
   ]
  },
  {
   "cell_type": "markdown",
   "metadata": {},
   "source": [
    "# make_ends\n",
    "<a>Task</a> : Given an array of ints, return a new array length 2 containing the first and last elements from the original array. The original array will be length 1 or more.\n",
    "\n",
    "<a>Example</a> : make_ends([1, 2, 3]) → [1, 3]\n",
    "\n",
    "make_ends([1, 2, 3, 4]) → [1, 4]\n",
    "\n",
    "make_ends([7, 4, 6, 2]) → [7, 2]"
   ]
  },
  {
   "cell_type": "code",
   "execution_count": 25,
   "metadata": {},
   "outputs": [
    {
     "name": "stdout",
     "output_type": "stream",
     "text": [
      "[1, 3]\n",
      "[1, 4]\n",
      "[7, 2]\n"
     ]
    }
   ],
   "source": [
    "def make_ends(nums):\n",
    "  return [nums[0], nums[-1]]\n",
    "print(make_ends([1, 2, 3]))\n",
    "print(make_ends([1, 2, 3, 4]))\n",
    "print(make_ends([7, 4, 6, 2]))"
   ]
  },
  {
   "cell_type": "markdown",
   "metadata": {},
   "source": [
    "# has23\n",
    "<a>Task</a> : Given an int array length 2, return True if it contains a 2 or a 3.\n",
    "\n",
    "<a>Example</a> : has23([2, 5]) → True\n",
    "\n",
    "has23([4, 3]) → True\n",
    "\n",
    "has23([4, 5]) → False"
   ]
  },
  {
   "cell_type": "code",
   "execution_count": 26,
   "metadata": {},
   "outputs": [
    {
     "name": "stdout",
     "output_type": "stream",
     "text": [
      "True\n",
      "True\n",
      "False\n"
     ]
    }
   ],
   "source": [
    "def has23(nums):\n",
    "  return 2 in nums or 3 in nums\n",
    "print(has23([2, 5]))\n",
    "print(has23([4, 3]))\n",
    "print(has23([4, 5]))"
   ]
  },
  {
   "cell_type": "markdown",
   "metadata": {},
   "source": [
    "# Logic-1"
   ]
  }
 ],
 "metadata": {
  "kernelspec": {
   "display_name": "Python 3.7.7 64-bit",
   "language": "python",
   "name": "python3"
  },
  "language_info": {
   "codemirror_mode": {
    "name": "ipython",
    "version": 3
   },
   "file_extension": ".py",
   "mimetype": "text/x-python",
   "name": "python",
   "nbconvert_exporter": "python",
   "pygments_lexer": "ipython3",
   "version": "3.7.7"
  },
  "orig_nbformat": 4,
  "vscode": {
   "interpreter": {
    "hash": "faf9ab473c29a0dc5a374468e44674fac3077178e3bb26d0489da5aa9d6c7fc0"
   }
  }
 },
 "nbformat": 4,
 "nbformat_minor": 2
}
